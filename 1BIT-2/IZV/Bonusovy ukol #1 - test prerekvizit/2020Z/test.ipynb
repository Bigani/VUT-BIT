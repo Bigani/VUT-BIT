{
 "metadata": {
  "language_info": {
   "codemirror_mode": {
    "name": "ipython",
    "version": 3
   },
   "file_extension": ".py",
   "mimetype": "text/x-python",
   "name": "python",
   "nbconvert_exporter": "python",
   "pygments_lexer": "ipython3",
   "version": "3.8.5-final"
  },
  "orig_nbformat": 2,
  "kernelspec": {
   "name": "Python 3.8.5 32-bit",
   "display_name": "Python 3.8.5 32-bit",
   "metadata": {
    "interpreter": {
     "hash": "09f121a1df488097c03d4d9835acf436a8871c3f6a20cb7a2eadbc2d472edc35"
    }
   }
  }
 },
 "nbformat": 4,
 "nbformat_minor": 2,
 "cells": [
  {
   "source": [
    "# Test prerekvizitních znalostí Pythonu\n",
    "Na tomto testu byste si měli ověřit, zda chápete základní struktury a konstrukce v jazyku Python. \n",
    "\n",
    "_Odhadovaná doba řešení:_ 10 minut\n",
    "\n",
    "_Odevzdávání:_ tento soubor `test.ipynb` odevzdejte do WISu do čtvrtka 24. září 2020\n",
    "\n",
    "_Dotazy:_ fórum ve WISu, hodnotit bude V. Mrázek"
   ],
   "cell_type": "markdown",
   "metadata": {}
  },
  {
   "cell_type": "code",
   "execution_count": 2,
   "metadata": {
    "tags": []
   },
   "outputs": [
    {
     "output_type": "stream",
     "name": "stdout",
     "text": "3.8.5 (tags/v3.8.5:580fbb0, Jul 20 2020, 15:43:08) [MSC v.1926 32 bit (Intel)]\n"
    }
   ],
   "source": [
    "# test verze jazyka Python\n",
    "import sys\n",
    "print(sys.version)\n",
    "# mela by byt Python 3.8"
   ]
  },
  {
   "cell_type": "code",
   "execution_count": 3,
   "metadata": {
    "tags": []
   },
   "outputs": [
    {
     "output_type": "stream",
     "name": "stdout",
     "text": "xmorav41\n"
    }
   ],
   "source": [
    "# TODO: vypište váš login\n",
    "print(\"xmorav41\")"
   ]
  },
  {
   "source": [
    "## Část 1: funkce\n",
    "\n",
    "- Napište funci `f1` s proměnným počtem __pozičně nezávislých__ argumentů, která vypíše všechny argumenty ve formátu\n",
    "```\n",
    "param1=hodnota1\n",
    "param2=hodnota2\n",
    "param3=hodnota3\n",
    "param4=hodnota4\n",
    "```"
   ],
   "cell_type": "markdown",
   "metadata": {}
  },
  {
   "cell_type": "code",
   "execution_count": 39,
   "metadata": {
    "tags": []
   },
   "outputs": [
    {
     "output_type": "stream",
     "name": "stdout",
     "text": "param1=hodnota1\nparam2=hodnota2\nparam3=hodnota3\nparam4=hodnota4\n"
    }
   ],
   "source": [
    "# Funkce s proměnným počtem argumentů\n",
    "# TODO: napiste funkci f1 \n",
    "def f1(**kwargs):\n",
    "    for param in kwargs.items():\n",
    "        print('='.join((param[0], param[1])))\n",
    "\n",
    "f1(param1=\"hodnota1\", param2=\"hodnota2\", param3=\"hodnota3\", param4=\"hodnota4\")"
   ]
  },
  {
   "source": [
    "Zavolejte tuto funkci s parametry param1=hodnota1, param2=hodnota2, ... param100=hodnota100. Abyste nemuseli psát 100 různých výsledků, předejte je přes objekt typu `dictionary`. Zřejmě k tomu využijete výčet `range`, formátovací řetězce a můžete použít zápis na jeden řádek pomocí tzv _generátorové notace_."
   ],
   "cell_type": "code",
   "metadata": {},
   "execution_count": null,
   "outputs": []
  },
  {
   "cell_type": "code",
   "execution_count": 42,
   "metadata": {
    "tags": []
   },
   "outputs": [
    {
     "output_type": "stream",
     "name": "stdout",
     "text": "param1=hodnota1\nparam2=hodnota2\nparam3=hodnota3\nparam4=hodnota4\nparam5=hodnota5\nparam6=hodnota6\nparam7=hodnota7\nparam8=hodnota8\nparam9=hodnota9\nparam10=hodnota10\nparam11=hodnota11\nparam12=hodnota12\nparam13=hodnota13\nparam14=hodnota14\nparam15=hodnota15\nparam16=hodnota16\nparam17=hodnota17\nparam18=hodnota18\nparam19=hodnota19\nparam20=hodnota20\nparam21=hodnota21\nparam22=hodnota22\nparam23=hodnota23\nparam24=hodnota24\nparam25=hodnota25\nparam26=hodnota26\nparam27=hodnota27\nparam28=hodnota28\nparam29=hodnota29\nparam30=hodnota30\nparam31=hodnota31\nparam32=hodnota32\nparam33=hodnota33\nparam34=hodnota34\nparam35=hodnota35\nparam36=hodnota36\nparam37=hodnota37\nparam38=hodnota38\nparam39=hodnota39\nparam40=hodnota40\nparam41=hodnota41\nparam42=hodnota42\nparam43=hodnota43\nparam44=hodnota44\nparam45=hodnota45\nparam46=hodnota46\nparam47=hodnota47\nparam48=hodnota48\nparam49=hodnota49\nparam50=hodnota50\nparam51=hodnota51\nparam52=hodnota52\nparam53=hodnota53\nparam54=hodnota54\nparam55=hodnota55\nparam56=hodnota56\nparam57=hodnota57\nparam58=hodnota58\nparam59=hodnota59\nparam60=hodnota60\nparam61=hodnota61\nparam62=hodnota62\nparam63=hodnota63\nparam64=hodnota64\nparam65=hodnota65\nparam66=hodnota66\nparam67=hodnota67\nparam68=hodnota68\nparam69=hodnota69\nparam70=hodnota70\nparam71=hodnota71\nparam72=hodnota72\nparam73=hodnota73\nparam74=hodnota74\nparam75=hodnota75\nparam76=hodnota76\nparam77=hodnota77\nparam78=hodnota78\nparam79=hodnota79\nparam80=hodnota80\nparam81=hodnota81\nparam82=hodnota82\nparam83=hodnota83\nparam84=hodnota84\nparam85=hodnota85\nparam86=hodnota86\nparam87=hodnota87\nparam88=hodnota88\nparam89=hodnota89\nparam90=hodnota90\nparam91=hodnota91\nparam92=hodnota92\nparam93=hodnota93\nparam94=hodnota94\nparam95=hodnota95\nparam96=hodnota96\nparam97=hodnota97\nparam98=hodnota98\nparam99=hodnota99\nparam100=hodnota100\n"
    }
   ],
   "source": [
    "# TODO: na jednom řádku vyřešte výše uvedené volání\n",
    "\n",
    "f1(**{('param'+str(k)): 'hodnota' + str(k) for k in range(1,101)})\n",
    "\n"
   ]
  },
  {
   "source": [
    "## Část 2: Třídy\n",
    "\n",
    "Vytvořte třídu `Auto`, které má:\n",
    "\n",
    "- incializátor, který vezme argument `vykon` a nastaví jej do parametru objektu `vykon`\n",
    "- funkci, která zařídí, že když se zadá `print(instance_objektu)`, tak se vypíše `Auto(vykon=??)`, kde `??` bude nahrazeno parametrem objektu `vykon`\n",
    "- proměnnou `vykon`, která bude řízená přes tzv. _getter_ a _setter_ (viz `@property` kontrukce tak), že\n",
    "  - getter vrátí interní proměnnou `self.__vykon`\n",
    "  - setter nastaví tuto interní proměnnou, pouze když je hodnota nezáporná. Jinak vyvolá vyjímku `ValueError` s popisem `Vykon nemuze byt mensi nez 0, bylo zadano ??`."
   ],
   "cell_type": "markdown",
   "metadata": {}
  },
  {
   "cell_type": "code",
   "execution_count": 64,
   "metadata": {
    "tags": []
   },
   "outputs": [
    {
     "output_type": "stream",
     "name": "stdout",
     "text": "Muj objekt je Auto(vykon=125)\n"
    }
   ],
   "source": [
    "#TODO: vytvorte tridu\n",
    "\n",
    "class Auto:\n",
    "    def __init__(self,vykon):\n",
    "        if vykon < 0:\n",
    "            raise ValueError('Chyba, vykon nesmie byt pod 0, zadane=' + str(vykon))\n",
    "        else:\n",
    "            self.__vykon = vykon\n",
    "\n",
    "\n",
    "    def __repr__(self):\n",
    "        return f'Auto(vykon={self.__vykon})'\n",
    "\n",
    "    @property\n",
    "    def vykon(self): #getter\n",
    "        return self.__vykon\n",
    "    \n",
    "    @vykon.setter\n",
    "    def vykon(self, value): #setter\n",
    "        if value < 0:\n",
    "            raise ValueError('Chyba, vykon nesmie byt pod 0, zadane=' + str(value))\n",
    "        else:\n",
    "            self.__vykon=value\n",
    "\n",
    "auto = Auto(vykon=15)\n",
    "auto.vykon = 125\n",
    "print(\"Muj objekt je\", auto)\n"
   ]
  },
  {
   "source": [
    "Test vyvolání vyjímky - zkusíme natastavit zápornou hodnotu výkonu auta."
   ],
   "cell_type": "markdown",
   "metadata": {}
  },
  {
   "source": [
    "auto = Auto(vykon=15)\n",
    "auto.vykon = -100"
   ],
   "cell_type": "code",
   "metadata": {},
   "execution_count": 55,
   "outputs": []
  },
  {
   "source": [
    "Nyní je vaším úkolem napsat ošetření vyjímky, které při nastavení záporné hodnoty výkonu vypíše chybovou hlášku, kterou převezme z vyjímky (použijte konstrukci `ValueError as e` a vypište i proměnnou `e`)"
   ],
   "cell_type": "markdown",
   "metadata": {}
  },
  {
   "cell_type": "code",
   "execution_count": 66,
   "metadata": {
    "tags": []
   },
   "outputs": [
    {
     "output_type": "stream",
     "name": "stdout",
     "text": "Chyba, vykon nesmie byt pod 0, zadane=-100\nVse probehlo OK\n"
    }
   ],
   "source": [
    "#TODO: vytvorte konstrukci zachytavani chyby\n",
    "\n",
    "try:\n",
    "    auto = Auto(vykon=-100)\n",
    "except ValueError as e:\n",
    "    print(e)\n",
    "\n",
    "print(\"Vse probehlo OK\")\n"
   ]
  },
  {
   "source": [
    "## Část 3: Smyčky, pole atd.\n",
    "\n",
    "Vytvoříme data, se kterými budeme pracovat"
   ],
   "cell_type": "markdown",
   "metadata": {}
  },
  {
   "cell_type": "code",
   "execution_count": 37,
   "metadata": {},
   "outputs": [],
   "source": [
    "data = [\n",
    "    (\"Karel\", \"Procházka\"),\n",
    "    (\"Lucie\", \"Nováková\"),\n",
    "    (\"Přemysl\", \"Oráč\")\n",
    "]"
   ]
  },
  {
   "source": [
    "Projdete data v cyklu s tím, že vypíšete:\n",
    "```\n",
    "1. Karel Procházka\n",
    "2. Lucie Nováková\n",
    "3. Přemysl Oráč\n",
    "```\n",
    "\n",
    "Použijte jeden cyklus s tím, že budete plnit proměnné `rid`, `jmeno` a `prijmeni` - použijte funkce `enumerate` a rozbalení  (_upacking_)."
   ],
   "cell_type": "markdown",
   "metadata": {}
  },
  {
   "cell_type": "code",
   "execution_count": 48,
   "metadata": {
    "tags": []
   },
   "outputs": [
    {
     "output_type": "stream",
     "name": "stdout",
     "text": "1. Karel Procházka\n2. Lucie Nováková\n3. Přemysl Oráč\n"
    }
   ],
   "source": [
    "#TODO: napiste cyklus\n",
    "for i in enumerate(data):\n",
    "    print (f'{i[0]+1}. {i[1][0]} {i[1][1]}')\n"
   ]
  },
  {
   "source": [
    "A vypište poslední prvek posle"
   ],
   "cell_type": "markdown",
   "metadata": {}
  },
  {
   "cell_type": "code",
   "execution_count": 50,
   "metadata": {
    "tags": []
   },
   "outputs": [
    {
     "output_type": "stream",
     "name": "stdout",
     "text": "('Přemysl', 'Oráč')\n"
    }
   ],
   "source": [
    "#TODO: výpis posledního prvku\n",
    "print(data[-1])"
   ]
  },
  {
   "cell_type": "code",
   "execution_count": null,
   "metadata": {},
   "outputs": [],
   "source": []
  }
 ]
}