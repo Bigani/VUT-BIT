{
 "cells": [
  {
   "cell_type": "markdown",
   "id": "dental-heaven",
   "metadata": {},
   "source": [
    "# Test hypothesis "
   ]
  },
  {
   "cell_type": "code",
   "execution_count": 1,
   "id": "ranging-timothy",
   "metadata": {},
   "outputs": [],
   "source": [
    "#!/usr/bin/python3.8\n",
    "import pandas as pd\n",
    "import scipy.stats"
   ]
  },
  {
   "cell_type": "markdown",
   "id": "smart-bleeding",
   "metadata": {},
   "source": [
    "Load zipped data and slice "
   ]
  },
  {
   "cell_type": "code",
   "execution_count": 2,
   "id": "elect-somalia",
   "metadata": {},
   "outputs": [],
   "source": [
    "df = pd.read_pickle(\"accidents.pkl.gz\", compression='gzip')\n",
    "df = df.loc[slice(None), ['p11', 'p13a', 'p13b']]"
   ]
  },
  {
   "cell_type": "markdown",
   "id": "paperback-encyclopedia",
   "metadata": {},
   "source": [
    "Unite heavy injuries and fatalities"
   ]
  },
  {
   "cell_type": "code",
   "execution_count": 3,
   "id": "thrown-handle",
   "metadata": {},
   "outputs": [],
   "source": [
    "df['p13'] = df['p13a'] + df['p13b']\n",
    "df = df.drop(columns=['p13a', 'p13b'])"
   ]
  },
  {
   "cell_type": "markdown",
   "id": "brazilian-dryer",
   "metadata": {},
   "source": [
    "Discard drug influcence"
   ]
  },
  {
   "cell_type": "code",
   "execution_count": 4,
   "id": "federal-sleeve",
   "metadata": {},
   "outputs": [],
   "source": [
    "df = df[(df.p11 != 4) & (df.p11 != 5)]"
   ]
  },
  {
   "cell_type": "markdown",
   "id": "future-capability",
   "metadata": {},
   "source": [
    "Set alcohol influence to 1 if true else 0"
   ]
  },
  {
   "cell_type": "code",
   "execution_count": 5,
   "id": "signal-hammer",
   "metadata": {},
   "outputs": [],
   "source": [
    "df['p11'].values[df['p11'] < 7] = 0\n",
    "df['p11'].values[df['p11'] >= 7] = 1"
   ]
  },
  {
   "cell_type": "markdown",
   "id": "signal-jewel",
   "metadata": {},
   "source": [
    "Set injuries to 1 if heavy or fatal, else 0"
   ]
  },
  {
   "cell_type": "code",
   "execution_count": 6,
   "id": "specialized-galaxy",
   "metadata": {},
   "outputs": [],
   "source": [
    "df['p13'].values[df['p13'] >= 1] = 1"
   ]
  },
  {
   "cell_type": "markdown",
   "id": "cosmetic-julian",
   "metadata": {},
   "source": [
    "Find correlation with pearson's coefficient "
   ]
  },
  {
   "cell_type": "code",
   "execution_count": 7,
   "id": "utility-mitchell",
   "metadata": {},
   "outputs": [],
   "source": [
    "cor, p = scipy.stats.pearsonr(df['p11'], df['p13'])"
   ]
  },
  {
   "cell_type": "markdown",
   "id": "modern-peoples",
   "metadata": {},
   "source": [
    "We are interested in positive correlation"
   ]
  },
  {
   "cell_type": "code",
   "execution_count": 8,
   "id": "ordered-skiing",
   "metadata": {},
   "outputs": [
    {
     "name": "stdout",
     "output_type": "stream",
     "text": [
      "Positive correlation\n",
      "\n"
     ]
    }
   ],
   "source": [
    "if cor > 0:\n",
    "    print('Positive correlation\\n')\n",
    "elif cor == 0:\n",
    "    print('Zero correlation\\n')\n",
    "    exit(0)\n",
    "else:\n",
    "    print('Negative correlation\\n')\n",
    "    exit(0)"
   ]
  },
  {
   "cell_type": "markdown",
   "id": "lovely-medication",
   "metadata": {},
   "source": [
    "Create 2x2 dataframe of cols: Heavy and Light injuries; rows: Drunk and Sober needed for chi2_contingency function"
   ]
  },
  {
   "cell_type": "code",
   "execution_count": 9,
   "id": "boolean-moderator",
   "metadata": {},
   "outputs": [],
   "source": [
    "count = df.value_counts()\n",
    "\n",
    "frame = {'Heavy': count[1], 'Light': count[0]}\n",
    "\n",
    "result_df = pd.DataFrame(frame)"
   ]
  },
  {
   "cell_type": "markdown",
   "id": "funny-calculator",
   "metadata": {},
   "source": [
    "Call function to test independence of variables"
   ]
  },
  {
   "cell_type": "code",
   "execution_count": 10,
   "id": "peaceful-diving",
   "metadata": {},
   "outputs": [],
   "source": [
    "result = scipy.stats.chi2_contingency(result_df)"
   ]
  },
  {
   "cell_type": "markdown",
   "id": "civilian-prison",
   "metadata": {},
   "source": [
    "Based on p-value decide on dependecy and confirm/deny hypothesis"
   ]
  },
  {
   "cell_type": "code",
   "execution_count": 11,
   "id": "induced-ottawa",
   "metadata": {},
   "outputs": [
    {
     "name": "stdout",
     "output_type": "stream",
     "text": [
      "2.0971505700338304e-123\n",
      "With 95% assurance we can confirm the hypothesis\n",
      "\n"
     ]
    }
   ],
   "source": [
    "print(result[1])\n",
    "if result[1] < 0.05:\n",
    "    print(\"With 95% assurance we can confirm the hypothesis\\n\")\n",
    "else:\n",
    "    print(\"Assurance is lower than 95%\\n\")\n",
    "exit(0)"
   ]
  }
 ],
 "metadata": {
  "kernelspec": {
   "display_name": "Python 3",
   "language": "python",
   "name": "python3"
  },
  "language_info": {
   "codemirror_mode": {
    "name": "ipython",
    "version": 3
   },
   "file_extension": ".py",
   "mimetype": "text/x-python",
   "name": "python",
   "nbconvert_exporter": "python",
   "pygments_lexer": "ipython3",
   "version": "3.8.5"
  }
 },
 "nbformat": 4,
 "nbformat_minor": 5
}
